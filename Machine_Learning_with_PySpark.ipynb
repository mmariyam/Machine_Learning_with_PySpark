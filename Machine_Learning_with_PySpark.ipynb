{
  "cells": [
    {
      "cell_type": "markdown",
      "id": "touched-hampshire",
      "metadata": {
        "id": "touched-hampshire"
      },
      "source": [
        "### ML with PySpark\n",
        "+ Classify/Predict \n",
        "\n",
        "#### Datasource\n",
        "+ https://archive.ics.uci.edu/ml/datasets/HCV+data"
      ]
    },
    {
      "cell_type": "code",
      "execution_count": null,
      "id": "sustained-richmond",
      "metadata": {
        "id": "sustained-richmond"
      },
      "outputs": [],
      "source": [
        "# Load our Pkgs\n",
        "from pyspark import SparkContext"
      ]
    },
    {
      "cell_type": "code",
      "execution_count": null,
      "id": "continent-trash",
      "metadata": {
        "id": "continent-trash"
      },
      "outputs": [],
      "source": [
        "sc = SparkContext(master='local[2]')"
      ]
    },
    {
      "cell_type": "code",
      "execution_count": null,
      "id": "instant-geometry",
      "metadata": {
        "id": "instant-geometry",
        "outputId": "5168b5a8-8e55-484c-f853-32b506603a6a"
      },
      "outputs": [
        {
          "data": {
            "text/html": [
              "\n",
              "        <div>\n",
              "            <p><b>SparkContext</b></p>\n",
              "\n",
              "            <p><a href=\"http://192.168.0.6:4040\">Spark UI</a></p>\n",
              "\n",
              "            <dl>\n",
              "              <dt>Version</dt>\n",
              "                <dd><code>v3.0.1</code></dd>\n",
              "              <dt>Master</dt>\n",
              "                <dd><code>local[2]</code></dd>\n",
              "              <dt>AppName</dt>\n",
              "                <dd><code>pyspark-shell</code></dd>\n",
              "            </dl>\n",
              "        </div>\n",
              "        "
            ],
            "text/plain": [
              "<SparkContext master=local[2] appName=pyspark-shell>"
            ]
          },
          "execution_count": 3,
          "metadata": {},
          "output_type": "execute_result"
        }
      ],
      "source": [
        "# Spark UI\n",
        "sc"
      ]
    },
    {
      "cell_type": "code",
      "execution_count": null,
      "id": "running-playback",
      "metadata": {
        "id": "running-playback"
      },
      "outputs": [],
      "source": [
        "# Load Pkgs \n",
        "from pyspark.sql import SparkSession"
      ]
    },
    {
      "cell_type": "code",
      "execution_count": null,
      "id": "pressed-england",
      "metadata": {
        "id": "pressed-england"
      },
      "outputs": [],
      "source": [
        "# Spark\n",
        "spark = SparkSession.builder.appName(\"MLwithSpark\").getOrCreate()"
      ]
    },
    {
      "cell_type": "markdown",
      "id": "welcome-relations",
      "metadata": {
        "id": "welcome-relations"
      },
      "source": [
        "#### WorkFlow\n",
        "+ Data Prep\n",
        "+ Feature Engineering\n",
        "+ Build Model\n",
        "+ Evaluate"
      ]
    },
    {
      "cell_type": "markdown",
      "id": "historic-enterprise",
      "metadata": {
        "id": "historic-enterprise"
      },
      "source": [
        "# Task\n",
        "+ Predict if a patient is Hep or not based parameter\n",
        "+ The data set contains laboratory values of blood donors and Hepatitis C patients and demographic values like age.\n",
        "\n"
      ]
    },
    {
      "cell_type": "code",
      "execution_count": null,
      "id": "handled-basketball",
      "metadata": {
        "id": "handled-basketball"
      },
      "outputs": [],
      "source": [
        "# Load our dataset\n",
        "df = spark.read.csv(\"data/hcvdata.csv\",header=True,inferSchema=True)"
      ]
    },
    {
      "cell_type": "code",
      "execution_count": null,
      "id": "happy-spanish",
      "metadata": {
        "id": "happy-spanish",
        "outputId": "66d56ab5-dd3f-459b-ffe3-34b464211935"
      },
      "outputs": [
        {
          "name": "stdout",
          "output_type": "stream",
          "text": [
            "+---+-------------+---+---+----+----+----+----+----+-----+----+-----+----+----+\n",
            "|_c0|     Category|Age|Sex| ALB| ALP| ALT| AST| BIL|  CHE|CHOL| CREA| GGT|PROT|\n",
            "+---+-------------+---+---+----+----+----+----+----+-----+----+-----+----+----+\n",
            "|  1|0=Blood Donor| 32|  m|38.5|52.5| 7.7|22.1| 7.5| 6.93|3.23|106.0|12.1|  69|\n",
            "|  2|0=Blood Donor| 32|  m|38.5|70.3|  18|24.7| 3.9|11.17| 4.8| 74.0|15.6|76.5|\n",
            "|  3|0=Blood Donor| 32|  m|46.9|74.7|36.2|52.6| 6.1| 8.84| 5.2| 86.0|33.2|79.3|\n",
            "|  4|0=Blood Donor| 32|  m|43.2|  52|30.6|22.6|18.9| 7.33|4.74| 80.0|33.8|75.7|\n",
            "|  5|0=Blood Donor| 32|  m|39.2|74.1|32.6|24.8| 9.6| 9.15|4.32| 76.0|29.9|68.7|\n",
            "|  6|0=Blood Donor| 32|  m|41.6|43.3|18.5|19.7|12.3| 9.92|6.05|111.0|91.0|  74|\n",
            "|  7|0=Blood Donor| 32|  m|46.3|41.3|17.5|17.8| 8.5| 7.01|4.79| 70.0|16.9|74.5|\n",
            "|  8|0=Blood Donor| 32|  m|42.2|41.9|35.8|31.1|16.1| 5.82| 4.6|109.0|21.5|67.1|\n",
            "|  9|0=Blood Donor| 32|  m|50.9|65.5|23.2|21.2| 6.9| 8.69| 4.1| 83.0|13.7|71.3|\n",
            "| 10|0=Blood Donor| 32|  m|42.4|86.3|20.3|20.0|35.2| 5.46|4.45| 81.0|15.9|69.9|\n",
            "| 11|0=Blood Donor| 32|  m|44.3|52.3|21.7|22.4|17.2| 4.15|3.57| 78.0|24.1|75.4|\n",
            "| 12|0=Blood Donor| 33|  m|46.4|68.2|10.3|20.0| 5.7| 7.36| 4.3| 79.0|18.7|68.6|\n",
            "| 13|0=Blood Donor| 33|  m|36.3|78.6|23.6|22.0| 7.0| 8.56|5.38| 78.0|19.4|68.7|\n",
            "| 14|0=Blood Donor| 33|  m|  39|51.7|15.9|24.0| 6.8| 6.46|3.38| 65.0| 7.0|70.4|\n",
            "| 15|0=Blood Donor| 33|  m|38.7|39.8|22.5|23.0| 4.1| 4.63|4.97| 63.0|15.2|71.9|\n",
            "| 16|0=Blood Donor| 33|  m|41.8|  65|33.1|38.0| 6.6| 8.83|4.43| 71.0|24.0|72.7|\n",
            "| 17|0=Blood Donor| 33|  m|40.9|  73|17.2|22.9|10.0| 6.98|5.22| 90.0|14.7|72.4|\n",
            "| 18|0=Blood Donor| 33|  m|45.2|88.3|32.4|31.2|10.1| 9.78|5.51|102.0|48.5|76.5|\n",
            "| 19|0=Blood Donor| 33|  m|36.6|57.1|38.9|40.3|24.9| 9.62| 5.5|112.0|27.6|69.3|\n",
            "| 20|0=Blood Donor| 33|  m|  42|63.1|32.6|34.9|11.2| 7.01|4.05|105.0|19.1|68.1|\n",
            "+---+-------------+---+---+----+----+----+----+----+-----+----+-----+----+----+\n",
            "only showing top 20 rows\n",
            "\n"
          ]
        }
      ],
      "source": [
        "# Preview Dataset\n",
        "df.show()"
      ]
    },
    {
      "cell_type": "code",
      "execution_count": null,
      "id": "younger-ranch",
      "metadata": {
        "id": "younger-ranch",
        "outputId": "56da23e9-1cb3-45bb-ad2a-effa3fd8ccc4"
      },
      "outputs": [
        {
          "name": "stdout",
          "output_type": "stream",
          "text": [
            "['_c0', 'Category', 'Age', 'Sex', 'ALB', 'ALP', 'ALT', 'AST', 'BIL', 'CHE', 'CHOL', 'CREA', 'GGT', 'PROT']\n"
          ]
        }
      ],
      "source": [
        "# check for columns\n",
        "print(df.columns)"
      ]
    },
    {
      "cell_type": "code",
      "execution_count": null,
      "id": "friendly-stockholm",
      "metadata": {
        "id": "friendly-stockholm"
      },
      "outputs": [],
      "source": [
        "# Rearrange\n",
        "df = df.select('Age', 'Sex', 'ALB', 'ALP', 'ALT', 'AST', 'BIL', 'CHE', 'CHOL', 'CREA', 'GGT', 'PROT','Category')"
      ]
    },
    {
      "cell_type": "code",
      "execution_count": null,
      "id": "cleared-frequency",
      "metadata": {
        "id": "cleared-frequency",
        "outputId": "5a71857a-e4a4-4a8c-a339-343b6c4f0e8c"
      },
      "outputs": [
        {
          "name": "stdout",
          "output_type": "stream",
          "text": [
            "+---+---+----+----+----+----+----+-----+----+----+----+----+-------------+\n",
            "|Age|Sex| ALB| ALP| ALT| AST| BIL|  CHE|CHOL|CREA| GGT|PROT|     Category|\n",
            "+---+---+----+----+----+----+----+-----+----+----+----+----+-------------+\n",
            "| 32|  m|38.5|52.5| 7.7|22.1| 7.5| 6.93|3.23| 106|12.1|  69|0=Blood Donor|\n",
            "| 32|  m|38.5|70.3|  18|24.7| 3.9|11.17| 4.8|  74|15.6|76.5|0=Blood Donor|\n",
            "| 32|  m|46.9|74.7|36.2|52.6| 6.1| 8.84| 5.2|  86|33.2|79.3|0=Blood Donor|\n",
            "| 32|  m|43.2|  52|30.6|22.6|18.9| 7.33|4.74|  80|33.8|75.7|0=Blood Donor|\n",
            "| 32|  m|39.2|74.1|32.6|24.8| 9.6| 9.15|4.32|  76|29.9|68.7|0=Blood Donor|\n",
            "+---+---+----+----+----+----+----+-----+----+----+----+----+-------------+\n",
            "only showing top 5 rows\n",
            "\n"
          ]
        }
      ],
      "source": [
        "df.show(5)"
      ]
    },
    {
      "cell_type": "code",
      "execution_count": null,
      "id": "cheap-arthritis",
      "metadata": {
        "id": "cheap-arthritis",
        "outputId": "0cb978e6-d206-441e-dcf5-189a161a05b4"
      },
      "outputs": [
        {
          "data": {
            "text/plain": [
              "[('Age', 'string'),\n",
              " ('Sex', 'string'),\n",
              " ('ALB', 'string'),\n",
              " ('ALP', 'string'),\n",
              " ('ALT', 'string'),\n",
              " ('AST', 'string'),\n",
              " ('BIL', 'string'),\n",
              " ('CHE', 'string'),\n",
              " ('CHOL', 'string'),\n",
              " ('CREA', 'string'),\n",
              " ('GGT', 'string'),\n",
              " ('PROT', 'string'),\n",
              " ('Category', 'string')]"
            ]
          },
          "execution_count": 13,
          "metadata": {},
          "output_type": "execute_result"
        }
      ],
      "source": [
        "# Check for datatypes\n",
        "# Before InferSchema=True\n",
        "df.dtypes"
      ]
    },
    {
      "cell_type": "code",
      "execution_count": null,
      "id": "reduced-malawi",
      "metadata": {
        "id": "reduced-malawi",
        "outputId": "6e326c76-0ca9-4776-edcf-14f72a79042c"
      },
      "outputs": [
        {
          "data": {
            "text/plain": [
              "[('Age', 'int'),\n",
              " ('Sex', 'string'),\n",
              " ('ALB', 'string'),\n",
              " ('ALP', 'string'),\n",
              " ('ALT', 'string'),\n",
              " ('AST', 'double'),\n",
              " ('BIL', 'double'),\n",
              " ('CHE', 'double'),\n",
              " ('CHOL', 'string'),\n",
              " ('CREA', 'double'),\n",
              " ('GGT', 'double'),\n",
              " ('PROT', 'string'),\n",
              " ('Category', 'string')]"
            ]
          },
          "execution_count": 17,
          "metadata": {},
          "output_type": "execute_result"
        }
      ],
      "source": [
        "# After InferSchema\n",
        "df.dtypes"
      ]
    },
    {
      "cell_type": "code",
      "execution_count": null,
      "id": "israeli-straight",
      "metadata": {
        "id": "israeli-straight",
        "outputId": "be1b1648-cbc6-4fe9-f38f-58052aed5987"
      },
      "outputs": [
        {
          "name": "stdout",
          "output_type": "stream",
          "text": [
            "root\n",
            " |-- Age: integer (nullable = true)\n",
            " |-- Sex: string (nullable = true)\n",
            " |-- ALB: string (nullable = true)\n",
            " |-- ALP: string (nullable = true)\n",
            " |-- ALT: string (nullable = true)\n",
            " |-- AST: double (nullable = true)\n",
            " |-- BIL: double (nullable = true)\n",
            " |-- CHE: double (nullable = true)\n",
            " |-- CHOL: string (nullable = true)\n",
            " |-- CREA: double (nullable = true)\n",
            " |-- GGT: double (nullable = true)\n",
            " |-- PROT: string (nullable = true)\n",
            " |-- Category: string (nullable = true)\n",
            "\n"
          ]
        }
      ],
      "source": [
        "# Check for the Schema\n",
        "df.printSchema()"
      ]
    },
    {
      "cell_type": "code",
      "execution_count": null,
      "id": "brazilian-friend",
      "metadata": {
        "id": "brazilian-friend",
        "outputId": "b5ea8595-0af7-4483-d93f-b9002c96dabd"
      },
      "outputs": [
        {
          "name": "stdout",
          "output_type": "stream",
          "text": [
            "+-------+------------------+----+-----------------+------------------+------------------+-----------------+------------------+------------------+------------------+-----------------+-----------------+-----------------+-------------+\n",
            "|summary|               Age| Sex|              ALB|               ALP|               ALT|              AST|               BIL|               CHE|              CHOL|             CREA|              GGT|             PROT|     Category|\n",
            "+-------+------------------+----+-----------------+------------------+------------------+-----------------+------------------+------------------+------------------+-----------------+-----------------+-----------------+-------------+\n",
            "|  count|               615| 615|              615|               615|               615|              615|               615|               615|               615|              615|              615|              615|          615|\n",
            "|   mean| 47.40813008130081|null|41.62019543973941| 68.28391959798999| 28.45081433224754|34.78634146341462|11.396747967479675| 8.196634146341458| 5.368099173553719|81.28780487804877|39.53317073170732|72.04413680781768|         null|\n",
            "| stddev|10.055105445519239|null|5.780629404103076|26.028315300123676|25.469688813870942|33.09069033855156|19.673149805846588|2.2056572704292927|1.1327284311597354|49.75616601234976|54.66107123891245|5.402635737104955|         null|\n",
            "|    min|                19|   f|             14.9|             100.4|               0.9|             10.6|               0.8|              1.42|              1.43|              8.0|              4.5|             44.8|0=Blood Donor|\n",
            "|    max|                77|   m|               NA|                NA|                NA|            324.0|             254.0|             16.41|                NA|           1079.1|            650.9|               NA|  3=Cirrhosis|\n",
            "+-------+------------------+----+-----------------+------------------+------------------+-----------------+------------------+------------------+------------------+-----------------+-----------------+-----------------+-------------+\n",
            "\n",
            "None\n"
          ]
        }
      ],
      "source": [
        "# Descriptive summary\n",
        "print(df.describe().show())"
      ]
    },
    {
      "cell_type": "code",
      "execution_count": null,
      "id": "fuzzy-screening",
      "metadata": {
        "id": "fuzzy-screening",
        "outputId": "498ffd2c-2c40-495f-f009-e0ee680ae0e2"
      },
      "outputs": [
        {
          "name": "stdout",
          "output_type": "stream",
          "text": [
            "+--------------------+-----+\n",
            "|            Category|count|\n",
            "+--------------------+-----+\n",
            "|       0=Blood Donor|  533|\n",
            "|         3=Cirrhosis|   30|\n",
            "|          2=Fibrosis|   21|\n",
            "|0s=suspect Blood ...|    7|\n",
            "|         1=Hepatitis|   24|\n",
            "+--------------------+-----+\n",
            "\n"
          ]
        }
      ],
      "source": [
        "# Value Count \n",
        "df.groupBy('Category').count().show()"
      ]
    },
    {
      "cell_type": "code",
      "execution_count": null,
      "id": "identified-wholesale",
      "metadata": {
        "id": "identified-wholesale"
      },
      "outputs": [],
      "source": [
        "#### Feature Engineering\n",
        "+ Numberical Values\n",
        "+ Vectorization\n",
        "+ Scaling"
      ]
    },
    {
      "cell_type": "code",
      "execution_count": null,
      "id": "tribal-stage",
      "metadata": {
        "id": "tribal-stage",
        "outputId": "98ad477c-4021-4b46-83e8-fa4813e07667"
      },
      "outputs": [
        {
          "name": "stdout",
          "output_type": "stream",
          "text": [
            "+---+---+----+----+----+----+----+-----+----+-----+----+----+-------------+\n",
            "|Age|Sex| ALB| ALP| ALT| AST| BIL|  CHE|CHOL| CREA| GGT|PROT|     Category|\n",
            "+---+---+----+----+----+----+----+-----+----+-----+----+----+-------------+\n",
            "| 32|  m|38.5|52.5| 7.7|22.1| 7.5| 6.93|3.23|106.0|12.1|  69|0=Blood Donor|\n",
            "| 32|  m|38.5|70.3|  18|24.7| 3.9|11.17| 4.8| 74.0|15.6|76.5|0=Blood Donor|\n",
            "| 32|  m|46.9|74.7|36.2|52.6| 6.1| 8.84| 5.2| 86.0|33.2|79.3|0=Blood Donor|\n",
            "| 32|  m|43.2|  52|30.6|22.6|18.9| 7.33|4.74| 80.0|33.8|75.7|0=Blood Donor|\n",
            "| 32|  m|39.2|74.1|32.6|24.8| 9.6| 9.15|4.32| 76.0|29.9|68.7|0=Blood Donor|\n",
            "+---+---+----+----+----+----+----+-----+----+-----+----+----+-------------+\n",
            "only showing top 5 rows\n",
            "\n"
          ]
        }
      ],
      "source": [
        "df.show(5)"
      ]
    },
    {
      "cell_type": "code",
      "execution_count": null,
      "id": "straight-certificate",
      "metadata": {
        "id": "straight-certificate"
      },
      "outputs": [],
      "source": [
        "import pyspark.ml"
      ]
    },
    {
      "cell_type": "code",
      "execution_count": null,
      "id": "sporting-transcript",
      "metadata": {
        "id": "sporting-transcript",
        "outputId": "f52598fa-b7e2-402c-e952-ad226526ccb7"
      },
      "outputs": [
        {
          "data": {
            "text/plain": [
              "['Estimator',\n",
              " 'Model',\n",
              " 'Pipeline',\n",
              " 'PipelineModel',\n",
              " 'Transformer',\n",
              " 'UnaryTransformer',\n",
              " '__all__',\n",
              " '__builtins__',\n",
              " '__cached__',\n",
              " '__doc__',\n",
              " '__file__',\n",
              " '__loader__',\n",
              " '__name__',\n",
              " '__package__',\n",
              " '__path__',\n",
              " '__spec__',\n",
              " 'base',\n",
              " 'classification',\n",
              " 'clustering',\n",
              " 'common',\n",
              " 'evaluation',\n",
              " 'feature',\n",
              " 'fpm',\n",
              " 'image',\n",
              " 'linalg',\n",
              " 'param',\n",
              " 'pipeline',\n",
              " 'recommendation',\n",
              " 'regression',\n",
              " 'stat',\n",
              " 'tree',\n",
              " 'tuning',\n",
              " 'util',\n",
              " 'wrapper']"
            ]
          },
          "execution_count": 24,
          "metadata": {},
          "output_type": "execute_result"
        }
      ],
      "source": [
        "dir(pyspark.ml)"
      ]
    },
    {
      "cell_type": "code",
      "execution_count": null,
      "id": "dedicated-compression",
      "metadata": {
        "id": "dedicated-compression"
      },
      "outputs": [],
      "source": [
        "# Load ML Pkgs\n",
        "from pyspark.ml.feature import VectorAssembler,StringIndexer"
      ]
    },
    {
      "cell_type": "code",
      "execution_count": null,
      "id": "solid-makeup",
      "metadata": {
        "id": "solid-makeup",
        "outputId": "831fd9f8-5e6d-4a98-a598-a304fac8b021"
      },
      "outputs": [
        {
          "name": "stdout",
          "output_type": "stream",
          "text": [
            "+---+---+----+----+----+----+----+-----+----+-----+----+----+-------------+\n",
            "|Age|Sex| ALB| ALP| ALT| AST| BIL|  CHE|CHOL| CREA| GGT|PROT|     Category|\n",
            "+---+---+----+----+----+----+----+-----+----+-----+----+----+-------------+\n",
            "| 32|  m|38.5|52.5| 7.7|22.1| 7.5| 6.93|3.23|106.0|12.1|  69|0=Blood Donor|\n",
            "| 32|  m|38.5|70.3|  18|24.7| 3.9|11.17| 4.8| 74.0|15.6|76.5|0=Blood Donor|\n",
            "| 32|  m|46.9|74.7|36.2|52.6| 6.1| 8.84| 5.2| 86.0|33.2|79.3|0=Blood Donor|\n",
            "| 32|  m|43.2|  52|30.6|22.6|18.9| 7.33|4.74| 80.0|33.8|75.7|0=Blood Donor|\n",
            "+---+---+----+----+----+----+----+-----+----+-----+----+----+-------------+\n",
            "only showing top 4 rows\n",
            "\n"
          ]
        }
      ],
      "source": [
        "df.show(4)"
      ]
    },
    {
      "cell_type": "code",
      "execution_count": null,
      "id": "substantial-atlantic",
      "metadata": {
        "id": "substantial-atlantic",
        "outputId": "ae924237-3947-4ad4-dbad-a0faa1bf150a"
      },
      "outputs": [
        {
          "name": "stdout",
          "output_type": "stream",
          "text": [
            "+---+\n",
            "|Sex|\n",
            "+---+\n",
            "|  m|\n",
            "|  f|\n",
            "+---+\n",
            "\n"
          ]
        }
      ],
      "source": [
        "# Unique Values for Sex\n",
        "df.select('Sex').distinct().show()"
      ]
    },
    {
      "cell_type": "code",
      "execution_count": null,
      "id": "enormous-mambo",
      "metadata": {
        "id": "enormous-mambo"
      },
      "outputs": [],
      "source": [
        "# Convert the string into numerical code\n",
        "# label encoding\n",
        "genderEncoder = StringIndexer(inputCol='Sex',outputCol='Gender').fit(df)"
      ]
    },
    {
      "cell_type": "code",
      "execution_count": null,
      "id": "understanding-pontiac",
      "metadata": {
        "id": "understanding-pontiac"
      },
      "outputs": [],
      "source": [
        "df = genderEncoder.transform(df)"
      ]
    },
    {
      "cell_type": "code",
      "execution_count": null,
      "id": "banned-journalism",
      "metadata": {
        "id": "banned-journalism",
        "outputId": "ad4b78fa-d4d6-49d0-c67f-03fcebb17066"
      },
      "outputs": [
        {
          "name": "stdout",
          "output_type": "stream",
          "text": [
            "+---+---+----+----+----+----+----+-----+----+-----+----+----+-------------+------+\n",
            "|Age|Sex| ALB| ALP| ALT| AST| BIL|  CHE|CHOL| CREA| GGT|PROT|     Category|Gender|\n",
            "+---+---+----+----+----+----+----+-----+----+-----+----+----+-------------+------+\n",
            "| 32|  m|38.5|52.5| 7.7|22.1| 7.5| 6.93|3.23|106.0|12.1|  69|0=Blood Donor|   0.0|\n",
            "| 32|  m|38.5|70.3|  18|24.7| 3.9|11.17| 4.8| 74.0|15.6|76.5|0=Blood Donor|   0.0|\n",
            "| 32|  m|46.9|74.7|36.2|52.6| 6.1| 8.84| 5.2| 86.0|33.2|79.3|0=Blood Donor|   0.0|\n",
            "| 32|  m|43.2|  52|30.6|22.6|18.9| 7.33|4.74| 80.0|33.8|75.7|0=Blood Donor|   0.0|\n",
            "| 32|  m|39.2|74.1|32.6|24.8| 9.6| 9.15|4.32| 76.0|29.9|68.7|0=Blood Donor|   0.0|\n",
            "+---+---+----+----+----+----+----+-----+----+-----+----+----+-------------+------+\n",
            "only showing top 5 rows\n",
            "\n"
          ]
        }
      ],
      "source": [
        "df.show(5)"
      ]
    },
    {
      "cell_type": "code",
      "execution_count": null,
      "id": "indoor-edwards",
      "metadata": {
        "id": "indoor-edwards"
      },
      "outputs": [],
      "source": [
        "# Encoding for Category\n",
        "# Label Encoding\n",
        "catEncoder = StringIndexer(inputCol='Category',outputCol='Target').fit(df)\n",
        "df = catEncoder.transform(df)"
      ]
    },
    {
      "cell_type": "code",
      "execution_count": null,
      "id": "statutory-tomorrow",
      "metadata": {
        "id": "statutory-tomorrow",
        "outputId": "3b44a3fe-36f6-4a15-ca4d-31d62370dccf"
      },
      "outputs": [
        {
          "name": "stdout",
          "output_type": "stream",
          "text": [
            "+---+---+----+----+----+----+----+-----+----+-----+----+----+-------------+------+------+\n",
            "|Age|Sex| ALB| ALP| ALT| AST| BIL|  CHE|CHOL| CREA| GGT|PROT|     Category|Gender|Target|\n",
            "+---+---+----+----+----+----+----+-----+----+-----+----+----+-------------+------+------+\n",
            "| 32|  m|38.5|52.5| 7.7|22.1| 7.5| 6.93|3.23|106.0|12.1|  69|0=Blood Donor|   0.0|   0.0|\n",
            "| 32|  m|38.5|70.3|  18|24.7| 3.9|11.17| 4.8| 74.0|15.6|76.5|0=Blood Donor|   0.0|   0.0|\n",
            "| 32|  m|46.9|74.7|36.2|52.6| 6.1| 8.84| 5.2| 86.0|33.2|79.3|0=Blood Donor|   0.0|   0.0|\n",
            "| 32|  m|43.2|  52|30.6|22.6|18.9| 7.33|4.74| 80.0|33.8|75.7|0=Blood Donor|   0.0|   0.0|\n",
            "| 32|  m|39.2|74.1|32.6|24.8| 9.6| 9.15|4.32| 76.0|29.9|68.7|0=Blood Donor|   0.0|   0.0|\n",
            "+---+---+----+----+----+----+----+-----+----+-----+----+----+-------------+------+------+\n",
            "only showing top 5 rows\n",
            "\n"
          ]
        }
      ],
      "source": [
        "df.show(5)"
      ]
    },
    {
      "cell_type": "code",
      "execution_count": null,
      "id": "excessive-meeting",
      "metadata": {
        "id": "excessive-meeting",
        "outputId": "863ded33-453e-45e6-90d0-8841dac45606"
      },
      "outputs": [
        {
          "data": {
            "text/plain": [
              "['0=Blood Donor',\n",
              " '3=Cirrhosis',\n",
              " '1=Hepatitis',\n",
              " '2=Fibrosis',\n",
              " '0s=suspect Blood Donor']"
            ]
          },
          "execution_count": 34,
          "metadata": {},
          "output_type": "execute_result"
        }
      ],
      "source": [
        "# Get the labels\n",
        "catEncoder.labels"
      ]
    },
    {
      "cell_type": "code",
      "execution_count": null,
      "id": "clear-huntington",
      "metadata": {
        "id": "clear-huntington"
      },
      "outputs": [],
      "source": [
        "# IndexToString\n",
        "from pyspark.ml.feature import IndexToString"
      ]
    },
    {
      "cell_type": "code",
      "execution_count": null,
      "id": "computational-bailey",
      "metadata": {
        "id": "computational-bailey"
      },
      "outputs": [],
      "source": [
        "converter = IndexToString(inputCol='Target',outputCol='orig_cat')"
      ]
    },
    {
      "cell_type": "code",
      "execution_count": null,
      "id": "efficient-dividend",
      "metadata": {
        "id": "efficient-dividend"
      },
      "outputs": [],
      "source": [
        "converted_df = converter.transform(df)"
      ]
    },
    {
      "cell_type": "code",
      "execution_count": null,
      "id": "technological-pacific",
      "metadata": {
        "collapsed": true,
        "jupyter": {
          "outputs_hidden": true
        },
        "id": "technological-pacific",
        "outputId": "e0b0729e-ebd4-4458-8786-3d46796c3218"
      },
      "outputs": [
        {
          "name": "stdout",
          "output_type": "stream",
          "text": [
            "+---+---+----+----+----+----+----+-----+----+-----+----+----+-------------+------+------+-------------+\n",
            "|Age|Sex| ALB| ALP| ALT| AST| BIL|  CHE|CHOL| CREA| GGT|PROT|     Category|Gender|Target|     orig_cat|\n",
            "+---+---+----+----+----+----+----+-----+----+-----+----+----+-------------+------+------+-------------+\n",
            "| 32|  m|38.5|52.5| 7.7|22.1| 7.5| 6.93|3.23|106.0|12.1|  69|0=Blood Donor|   0.0|   0.0|0=Blood Donor|\n",
            "| 32|  m|38.5|70.3|  18|24.7| 3.9|11.17| 4.8| 74.0|15.6|76.5|0=Blood Donor|   0.0|   0.0|0=Blood Donor|\n",
            "| 32|  m|46.9|74.7|36.2|52.6| 6.1| 8.84| 5.2| 86.0|33.2|79.3|0=Blood Donor|   0.0|   0.0|0=Blood Donor|\n",
            "| 32|  m|43.2|  52|30.6|22.6|18.9| 7.33|4.74| 80.0|33.8|75.7|0=Blood Donor|   0.0|   0.0|0=Blood Donor|\n",
            "| 32|  m|39.2|74.1|32.6|24.8| 9.6| 9.15|4.32| 76.0|29.9|68.7|0=Blood Donor|   0.0|   0.0|0=Blood Donor|\n",
            "| 32|  m|41.6|43.3|18.5|19.7|12.3| 9.92|6.05|111.0|91.0|  74|0=Blood Donor|   0.0|   0.0|0=Blood Donor|\n",
            "| 32|  m|46.3|41.3|17.5|17.8| 8.5| 7.01|4.79| 70.0|16.9|74.5|0=Blood Donor|   0.0|   0.0|0=Blood Donor|\n",
            "| 32|  m|42.2|41.9|35.8|31.1|16.1| 5.82| 4.6|109.0|21.5|67.1|0=Blood Donor|   0.0|   0.0|0=Blood Donor|\n",
            "| 32|  m|50.9|65.5|23.2|21.2| 6.9| 8.69| 4.1| 83.0|13.7|71.3|0=Blood Donor|   0.0|   0.0|0=Blood Donor|\n",
            "| 32|  m|42.4|86.3|20.3|20.0|35.2| 5.46|4.45| 81.0|15.9|69.9|0=Blood Donor|   0.0|   0.0|0=Blood Donor|\n",
            "| 32|  m|44.3|52.3|21.7|22.4|17.2| 4.15|3.57| 78.0|24.1|75.4|0=Blood Donor|   0.0|   0.0|0=Blood Donor|\n",
            "| 33|  m|46.4|68.2|10.3|20.0| 5.7| 7.36| 4.3| 79.0|18.7|68.6|0=Blood Donor|   0.0|   0.0|0=Blood Donor|\n",
            "| 33|  m|36.3|78.6|23.6|22.0| 7.0| 8.56|5.38| 78.0|19.4|68.7|0=Blood Donor|   0.0|   0.0|0=Blood Donor|\n",
            "| 33|  m|  39|51.7|15.9|24.0| 6.8| 6.46|3.38| 65.0| 7.0|70.4|0=Blood Donor|   0.0|   0.0|0=Blood Donor|\n",
            "| 33|  m|38.7|39.8|22.5|23.0| 4.1| 4.63|4.97| 63.0|15.2|71.9|0=Blood Donor|   0.0|   0.0|0=Blood Donor|\n",
            "| 33|  m|41.8|  65|33.1|38.0| 6.6| 8.83|4.43| 71.0|24.0|72.7|0=Blood Donor|   0.0|   0.0|0=Blood Donor|\n",
            "| 33|  m|40.9|  73|17.2|22.9|10.0| 6.98|5.22| 90.0|14.7|72.4|0=Blood Donor|   0.0|   0.0|0=Blood Donor|\n",
            "| 33|  m|45.2|88.3|32.4|31.2|10.1| 9.78|5.51|102.0|48.5|76.5|0=Blood Donor|   0.0|   0.0|0=Blood Donor|\n",
            "| 33|  m|36.6|57.1|38.9|40.3|24.9| 9.62| 5.5|112.0|27.6|69.3|0=Blood Donor|   0.0|   0.0|0=Blood Donor|\n",
            "| 33|  m|  42|63.1|32.6|34.9|11.2| 7.01|4.05|105.0|19.1|68.1|0=Blood Donor|   0.0|   0.0|0=Blood Donor|\n",
            "+---+---+----+----+----+----+----+-----+----+-----+----+----+-------------+------+------+-------------+\n",
            "only showing top 20 rows\n",
            "\n"
          ]
        }
      ],
      "source": [
        "converted_df.show()"
      ]
    },
    {
      "cell_type": "code",
      "execution_count": null,
      "id": "happy-aquarium",
      "metadata": {
        "id": "happy-aquarium",
        "outputId": "a45f0d86-711d-47f6-b3f8-ecddc69d89f5"
      },
      "outputs": [
        {
          "name": "stdout",
          "output_type": "stream",
          "text": [
            "+---+---+----+----+----+----+----+-----+----+-----+----+----+-------------+------+------+\n",
            "|Age|Sex| ALB| ALP| ALT| AST| BIL|  CHE|CHOL| CREA| GGT|PROT|     Category|Gender|Target|\n",
            "+---+---+----+----+----+----+----+-----+----+-----+----+----+-------------+------+------+\n",
            "| 32|  m|38.5|52.5| 7.7|22.1| 7.5| 6.93|3.23|106.0|12.1|  69|0=Blood Donor|   0.0|   0.0|\n",
            "| 32|  m|38.5|70.3|  18|24.7| 3.9|11.17| 4.8| 74.0|15.6|76.5|0=Blood Donor|   0.0|   0.0|\n",
            "| 32|  m|46.9|74.7|36.2|52.6| 6.1| 8.84| 5.2| 86.0|33.2|79.3|0=Blood Donor|   0.0|   0.0|\n",
            "| 32|  m|43.2|  52|30.6|22.6|18.9| 7.33|4.74| 80.0|33.8|75.7|0=Blood Donor|   0.0|   0.0|\n",
            "| 32|  m|39.2|74.1|32.6|24.8| 9.6| 9.15|4.32| 76.0|29.9|68.7|0=Blood Donor|   0.0|   0.0|\n",
            "| 32|  m|41.6|43.3|18.5|19.7|12.3| 9.92|6.05|111.0|91.0|  74|0=Blood Donor|   0.0|   0.0|\n",
            "| 32|  m|46.3|41.3|17.5|17.8| 8.5| 7.01|4.79| 70.0|16.9|74.5|0=Blood Donor|   0.0|   0.0|\n",
            "| 32|  m|42.2|41.9|35.8|31.1|16.1| 5.82| 4.6|109.0|21.5|67.1|0=Blood Donor|   0.0|   0.0|\n",
            "| 32|  m|50.9|65.5|23.2|21.2| 6.9| 8.69| 4.1| 83.0|13.7|71.3|0=Blood Donor|   0.0|   0.0|\n",
            "| 32|  m|42.4|86.3|20.3|20.0|35.2| 5.46|4.45| 81.0|15.9|69.9|0=Blood Donor|   0.0|   0.0|\n",
            "| 32|  m|44.3|52.3|21.7|22.4|17.2| 4.15|3.57| 78.0|24.1|75.4|0=Blood Donor|   0.0|   0.0|\n",
            "| 33|  m|46.4|68.2|10.3|20.0| 5.7| 7.36| 4.3| 79.0|18.7|68.6|0=Blood Donor|   0.0|   0.0|\n",
            "| 33|  m|36.3|78.6|23.6|22.0| 7.0| 8.56|5.38| 78.0|19.4|68.7|0=Blood Donor|   0.0|   0.0|\n",
            "| 33|  m|  39|51.7|15.9|24.0| 6.8| 6.46|3.38| 65.0| 7.0|70.4|0=Blood Donor|   0.0|   0.0|\n",
            "| 33|  m|38.7|39.8|22.5|23.0| 4.1| 4.63|4.97| 63.0|15.2|71.9|0=Blood Donor|   0.0|   0.0|\n",
            "| 33|  m|41.8|  65|33.1|38.0| 6.6| 8.83|4.43| 71.0|24.0|72.7|0=Blood Donor|   0.0|   0.0|\n",
            "| 33|  m|40.9|  73|17.2|22.9|10.0| 6.98|5.22| 90.0|14.7|72.4|0=Blood Donor|   0.0|   0.0|\n",
            "| 33|  m|45.2|88.3|32.4|31.2|10.1| 9.78|5.51|102.0|48.5|76.5|0=Blood Donor|   0.0|   0.0|\n",
            "| 33|  m|36.6|57.1|38.9|40.3|24.9| 9.62| 5.5|112.0|27.6|69.3|0=Blood Donor|   0.0|   0.0|\n",
            "| 33|  m|  42|63.1|32.6|34.9|11.2| 7.01|4.05|105.0|19.1|68.1|0=Blood Donor|   0.0|   0.0|\n",
            "+---+---+----+----+----+----+----+-----+----+-----+----+----+-------------+------+------+\n",
            "only showing top 20 rows\n",
            "\n"
          ]
        }
      ],
      "source": [
        "### Feature \n",
        "df.show()"
      ]
    },
    {
      "cell_type": "code",
      "execution_count": null,
      "id": "moving-steam",
      "metadata": {
        "id": "moving-steam",
        "outputId": "8f18b0e0-cc65-4cd5-8fef-cb217c9217a9"
      },
      "outputs": [
        {
          "name": "stdout",
          "output_type": "stream",
          "text": [
            "['Age', 'Sex', 'ALB', 'ALP', 'ALT', 'AST', 'BIL', 'CHE', 'CHOL', 'CREA', 'GGT', 'PROT', 'Category', 'Gender', 'Target']\n"
          ]
        }
      ],
      "source": [
        "print(df.columns)"
      ]
    },
    {
      "cell_type": "code",
      "execution_count": null,
      "id": "egyptian-governor",
      "metadata": {
        "id": "egyptian-governor",
        "outputId": "4c8a9d04-9889-4a21-87cf-599ede4e67c2"
      },
      "outputs": [
        {
          "data": {
            "text/plain": [
              "[('Age', 'int'),\n",
              " ('Sex', 'string'),\n",
              " ('ALB', 'string'),\n",
              " ('ALP', 'string'),\n",
              " ('ALT', 'string'),\n",
              " ('AST', 'double'),\n",
              " ('BIL', 'double'),\n",
              " ('CHE', 'double'),\n",
              " ('CHOL', 'string'),\n",
              " ('CREA', 'double'),\n",
              " ('GGT', 'double'),\n",
              " ('PROT', 'string'),\n",
              " ('Category', 'string'),\n",
              " ('Gender', 'double'),\n",
              " ('Target', 'double')]"
            ]
          },
          "execution_count": 45,
          "metadata": {},
          "output_type": "execute_result"
        }
      ],
      "source": [
        "df.dtypes"
      ]
    },
    {
      "cell_type": "code",
      "execution_count": null,
      "id": "critical-grenada",
      "metadata": {
        "id": "critical-grenada"
      },
      "outputs": [],
      "source": [
        "df2 = df.select('Age','Gender', 'ALB', 'ALP', 'ALT', 'AST', 'BIL', 'CHE', 'CHOL', 'CREA', 'GGT', 'PROT', 'Target')"
      ]
    },
    {
      "cell_type": "code",
      "execution_count": null,
      "id": "minor-fluid",
      "metadata": {
        "collapsed": true,
        "jupyter": {
          "outputs_hidden": true
        },
        "id": "minor-fluid",
        "outputId": "6ce569e2-fb54-4f2d-8190-d084cbcdeb11"
      },
      "outputs": [
        {
          "name": "stdout",
          "output_type": "stream",
          "text": [
            "root\n",
            " |-- Age: integer (nullable = true)\n",
            " |-- Gender: double (nullable = false)\n",
            " |-- ALB: string (nullable = true)\n",
            " |-- ALP: string (nullable = true)\n",
            " |-- ALT: string (nullable = true)\n",
            " |-- AST: double (nullable = true)\n",
            " |-- BIL: double (nullable = true)\n",
            " |-- CHE: double (nullable = true)\n",
            " |-- CHOL: string (nullable = true)\n",
            " |-- CREA: double (nullable = true)\n",
            " |-- GGT: double (nullable = true)\n",
            " |-- PROT: string (nullable = true)\n",
            " |-- Target: double (nullable = false)\n",
            "\n"
          ]
        }
      ],
      "source": [
        "df2.printSchema()"
      ]
    },
    {
      "cell_type": "code",
      "execution_count": null,
      "id": "material-challenge",
      "metadata": {
        "id": "material-challenge"
      },
      "outputs": [],
      "source": [
        "# df2.fillna(0,subset=['col1'])"
      ]
    },
    {
      "cell_type": "code",
      "execution_count": null,
      "id": "devoted-southwest",
      "metadata": {
        "id": "devoted-southwest"
      },
      "outputs": [],
      "source": [
        "df2 = df2.toPandas().replace('NA',0).astype(float)"
      ]
    },
    {
      "cell_type": "code",
      "execution_count": null,
      "id": "billion-ability",
      "metadata": {
        "id": "billion-ability",
        "outputId": "bc244b6c-f4a2-4eb2-a102-c305d43d2e44"
      },
      "outputs": [
        {
          "data": {
            "text/plain": [
              "pandas.core.frame.DataFrame"
            ]
          },
          "execution_count": 74,
          "metadata": {},
          "output_type": "execute_result"
        }
      ],
      "source": [
        "type(df2)"
      ]
    },
    {
      "cell_type": "code",
      "execution_count": null,
      "id": "juvenile-three",
      "metadata": {
        "id": "juvenile-three",
        "outputId": "8586af9e-331d-4cf8-8dd7-f606d5ac7683"
      },
      "outputs": [
        {
          "data": {
            "text/plain": [
              "pyspark.sql.dataframe.DataFrame"
            ]
          },
          "execution_count": 75,
          "metadata": {},
          "output_type": "execute_result"
        }
      ],
      "source": [
        "type(df)"
      ]
    },
    {
      "cell_type": "code",
      "execution_count": null,
      "id": "orange-intellectual",
      "metadata": {
        "id": "orange-intellectual"
      },
      "outputs": [],
      "source": [
        "# Convert To PySpark Dataframe\n",
        "new_df = spark.createDataFrame(df2)"
      ]
    },
    {
      "cell_type": "code",
      "execution_count": null,
      "id": "optional-secretariat",
      "metadata": {
        "id": "optional-secretariat",
        "outputId": "1e667c0a-0a87-40c0-8679-12601e816798"
      },
      "outputs": [
        {
          "name": "stdout",
          "output_type": "stream",
          "text": [
            "+----+------+----+----+----+----+----+-----+----+-----+----+----+------+\n",
            "| Age|Gender| ALB| ALP| ALT| AST| BIL|  CHE|CHOL| CREA| GGT|PROT|Target|\n",
            "+----+------+----+----+----+----+----+-----+----+-----+----+----+------+\n",
            "|32.0|   0.0|38.5|52.5| 7.7|22.1| 7.5| 6.93|3.23|106.0|12.1|69.0|   0.0|\n",
            "|32.0|   0.0|38.5|70.3|18.0|24.7| 3.9|11.17| 4.8| 74.0|15.6|76.5|   0.0|\n",
            "|32.0|   0.0|46.9|74.7|36.2|52.6| 6.1| 8.84| 5.2| 86.0|33.2|79.3|   0.0|\n",
            "|32.0|   0.0|43.2|52.0|30.6|22.6|18.9| 7.33|4.74| 80.0|33.8|75.7|   0.0|\n",
            "|32.0|   0.0|39.2|74.1|32.6|24.8| 9.6| 9.15|4.32| 76.0|29.9|68.7|   0.0|\n",
            "|32.0|   0.0|41.6|43.3|18.5|19.7|12.3| 9.92|6.05|111.0|91.0|74.0|   0.0|\n",
            "|32.0|   0.0|46.3|41.3|17.5|17.8| 8.5| 7.01|4.79| 70.0|16.9|74.5|   0.0|\n",
            "|32.0|   0.0|42.2|41.9|35.8|31.1|16.1| 5.82| 4.6|109.0|21.5|67.1|   0.0|\n",
            "|32.0|   0.0|50.9|65.5|23.2|21.2| 6.9| 8.69| 4.1| 83.0|13.7|71.3|   0.0|\n",
            "|32.0|   0.0|42.4|86.3|20.3|20.0|35.2| 5.46|4.45| 81.0|15.9|69.9|   0.0|\n",
            "|32.0|   0.0|44.3|52.3|21.7|22.4|17.2| 4.15|3.57| 78.0|24.1|75.4|   0.0|\n",
            "|33.0|   0.0|46.4|68.2|10.3|20.0| 5.7| 7.36| 4.3| 79.0|18.7|68.6|   0.0|\n",
            "|33.0|   0.0|36.3|78.6|23.6|22.0| 7.0| 8.56|5.38| 78.0|19.4|68.7|   0.0|\n",
            "|33.0|   0.0|39.0|51.7|15.9|24.0| 6.8| 6.46|3.38| 65.0| 7.0|70.4|   0.0|\n",
            "|33.0|   0.0|38.7|39.8|22.5|23.0| 4.1| 4.63|4.97| 63.0|15.2|71.9|   0.0|\n",
            "|33.0|   0.0|41.8|65.0|33.1|38.0| 6.6| 8.83|4.43| 71.0|24.0|72.7|   0.0|\n",
            "|33.0|   0.0|40.9|73.0|17.2|22.9|10.0| 6.98|5.22| 90.0|14.7|72.4|   0.0|\n",
            "|33.0|   0.0|45.2|88.3|32.4|31.2|10.1| 9.78|5.51|102.0|48.5|76.5|   0.0|\n",
            "|33.0|   0.0|36.6|57.1|38.9|40.3|24.9| 9.62| 5.5|112.0|27.6|69.3|   0.0|\n",
            "|33.0|   0.0|42.0|63.1|32.6|34.9|11.2| 7.01|4.05|105.0|19.1|68.1|   0.0|\n",
            "+----+------+----+----+----+----+----+-----+----+-----+----+----+------+\n",
            "only showing top 20 rows\n",
            "\n"
          ]
        }
      ],
      "source": [
        "new_df.show()"
      ]
    },
    {
      "cell_type": "code",
      "execution_count": null,
      "id": "neither-textbook",
      "metadata": {
        "id": "neither-textbook",
        "outputId": "88a09497-a7fe-494e-c62d-d6d0cdccded1"
      },
      "outputs": [
        {
          "name": "stdout",
          "output_type": "stream",
          "text": [
            "root\n",
            " |-- Age: double (nullable = true)\n",
            " |-- Gender: double (nullable = true)\n",
            " |-- ALB: double (nullable = true)\n",
            " |-- ALP: double (nullable = true)\n",
            " |-- ALT: double (nullable = true)\n",
            " |-- AST: double (nullable = true)\n",
            " |-- BIL: double (nullable = true)\n",
            " |-- CHE: double (nullable = true)\n",
            " |-- CHOL: double (nullable = true)\n",
            " |-- CREA: double (nullable = true)\n",
            " |-- GGT: double (nullable = true)\n",
            " |-- PROT: double (nullable = true)\n",
            " |-- Target: double (nullable = true)\n",
            "\n"
          ]
        }
      ],
      "source": [
        "# Check For DTYpes and Schema\n",
        "new_df.printSchema()"
      ]
    },
    {
      "cell_type": "code",
      "execution_count": null,
      "id": "mighty-portsmouth",
      "metadata": {
        "id": "mighty-portsmouth"
      },
      "outputs": [],
      "source": [
        "required_features = ['Age','Gender', 'ALB', 'ALP', 'ALT', 'AST', 'BIL', 'CHE', 'CHOL', 'CREA', 'GGT', 'PROT', 'Target']"
      ]
    },
    {
      "cell_type": "code",
      "execution_count": null,
      "id": "outer-james",
      "metadata": {
        "id": "outer-james"
      },
      "outputs": [],
      "source": [
        "# VectorAsm\n",
        "vec_assembler = VectorAssembler(inputCols=required_features,outputCol='features')"
      ]
    },
    {
      "cell_type": "code",
      "execution_count": null,
      "id": "tough-congo",
      "metadata": {
        "id": "tough-congo"
      },
      "outputs": [],
      "source": [
        "vec_df = vec_assembler.transform(new_df)"
      ]
    },
    {
      "cell_type": "code",
      "execution_count": null,
      "id": "prescribed-skiing",
      "metadata": {
        "id": "prescribed-skiing",
        "outputId": "d377b39d-88ac-47e8-d542-58d3d59b976a"
      },
      "outputs": [
        {
          "name": "stdout",
          "output_type": "stream",
          "text": [
            "+----+------+----+----+----+----+----+-----+----+-----+----+----+------+--------------------+\n",
            "| Age|Gender| ALB| ALP| ALT| AST| BIL|  CHE|CHOL| CREA| GGT|PROT|Target|            features|\n",
            "+----+------+----+----+----+----+----+-----+----+-----+----+----+------+--------------------+\n",
            "|32.0|   0.0|38.5|52.5| 7.7|22.1| 7.5| 6.93|3.23|106.0|12.1|69.0|   0.0|[32.0,0.0,38.5,52...|\n",
            "|32.0|   0.0|38.5|70.3|18.0|24.7| 3.9|11.17| 4.8| 74.0|15.6|76.5|   0.0|[32.0,0.0,38.5,70...|\n",
            "|32.0|   0.0|46.9|74.7|36.2|52.6| 6.1| 8.84| 5.2| 86.0|33.2|79.3|   0.0|[32.0,0.0,46.9,74...|\n",
            "|32.0|   0.0|43.2|52.0|30.6|22.6|18.9| 7.33|4.74| 80.0|33.8|75.7|   0.0|[32.0,0.0,43.2,52...|\n",
            "|32.0|   0.0|39.2|74.1|32.6|24.8| 9.6| 9.15|4.32| 76.0|29.9|68.7|   0.0|[32.0,0.0,39.2,74...|\n",
            "+----+------+----+----+----+----+----+-----+----+-----+----+----+------+--------------------+\n",
            "only showing top 5 rows\n",
            "\n"
          ]
        }
      ],
      "source": [
        "vec_df.show(5)"
      ]
    },
    {
      "cell_type": "markdown",
      "id": "circular-treaty",
      "metadata": {
        "id": "circular-treaty"
      },
      "source": [
        "### Train,Test Split"
      ]
    },
    {
      "cell_type": "code",
      "execution_count": null,
      "id": "polished-robin",
      "metadata": {
        "id": "polished-robin"
      },
      "outputs": [],
      "source": [
        "train_df,test_df = vec_df.randomSplit([0.7,0.3])"
      ]
    },
    {
      "cell_type": "code",
      "execution_count": null,
      "id": "piano-preparation",
      "metadata": {
        "id": "piano-preparation",
        "outputId": "6c32b8fe-7b91-4eb0-dbed-54c36298da6d"
      },
      "outputs": [
        {
          "data": {
            "text/plain": [
              "439"
            ]
          },
          "execution_count": 84,
          "metadata": {},
          "output_type": "execute_result"
        }
      ],
      "source": [
        "train_df.count()"
      ]
    },
    {
      "cell_type": "code",
      "execution_count": null,
      "id": "coordinated-notebook",
      "metadata": {
        "id": "coordinated-notebook",
        "outputId": "0420e5e4-e98e-44b6-cc8c-81fa2de5553e"
      },
      "outputs": [
        {
          "name": "stdout",
          "output_type": "stream",
          "text": [
            "+----+------+----+----+----+----+----+-----+----+-----+----+----+------+--------------------+\n",
            "| Age|Gender| ALB| ALP| ALT| AST| BIL|  CHE|CHOL| CREA| GGT|PROT|Target|            features|\n",
            "+----+------+----+----+----+----+----+-----+----+-----+----+----+------+--------------------+\n",
            "|32.0|   0.0|38.5|52.5| 7.7|22.1| 7.5| 6.93|3.23|106.0|12.1|69.0|   0.0|[32.0,0.0,38.5,52...|\n",
            "|32.0|   0.0|38.5|70.3|18.0|24.7| 3.9|11.17| 4.8| 74.0|15.6|76.5|   0.0|[32.0,0.0,38.5,70...|\n",
            "|32.0|   0.0|39.2|74.1|32.6|24.8| 9.6| 9.15|4.32| 76.0|29.9|68.7|   0.0|[32.0,0.0,39.2,74...|\n",
            "|32.0|   0.0|41.6|43.3|18.5|19.7|12.3| 9.92|6.05|111.0|91.0|74.0|   0.0|[32.0,0.0,41.6,43...|\n",
            "+----+------+----+----+----+----+----+-----+----+-----+----+----+------+--------------------+\n",
            "only showing top 4 rows\n",
            "\n"
          ]
        }
      ],
      "source": [
        "train_df.show(4)"
      ]
    },
    {
      "cell_type": "code",
      "execution_count": null,
      "id": "stupid-cocktail",
      "metadata": {
        "id": "stupid-cocktail"
      },
      "outputs": [],
      "source": [
        "#### Model Building\n",
        "+ Pyspark.ml: DataFrame\n",
        "+ Pyspark.mllib: RDD /Legacy"
      ]
    },
    {
      "cell_type": "code",
      "execution_count": null,
      "id": "retired-truth",
      "metadata": {
        "id": "retired-truth"
      },
      "outputs": [],
      "source": [
        "from pyspark.ml.classification import LogisticRegression,DecisionTreeClassifier"
      ]
    },
    {
      "cell_type": "code",
      "execution_count": null,
      "id": "active-stephen",
      "metadata": {
        "id": "active-stephen"
      },
      "outputs": [],
      "source": [
        "# Logist Model\n",
        "lr = LogisticRegression(featuresCol='features',labelCol='Target')"
      ]
    },
    {
      "cell_type": "code",
      "execution_count": null,
      "id": "atlantic-lesbian",
      "metadata": {
        "id": "atlantic-lesbian"
      },
      "outputs": [],
      "source": [
        "lr_model = lr.fit(train_df)"
      ]
    },
    {
      "cell_type": "code",
      "execution_count": null,
      "id": "confidential-wilderness",
      "metadata": {
        "id": "confidential-wilderness"
      },
      "outputs": [],
      "source": [
        "y_pred = lr_model.transform(test_df)"
      ]
    },
    {
      "cell_type": "code",
      "execution_count": null,
      "id": "continuing-george",
      "metadata": {
        "collapsed": true,
        "jupyter": {
          "outputs_hidden": true
        },
        "id": "continuing-george",
        "outputId": "cc689c68-a158-4190-fe24-5a4c33917984"
      },
      "outputs": [
        {
          "name": "stdout",
          "output_type": "stream",
          "text": [
            "+----+------+----+-----+----+----+----+-----+----+-----+----+----+------+--------------------+--------------------+--------------------+----------+\n",
            "| Age|Gender| ALB|  ALP| ALT| AST| BIL|  CHE|CHOL| CREA| GGT|PROT|Target|            features|       rawPrediction|         probability|prediction|\n",
            "+----+------+----+-----+----+----+----+-----+----+-----+----+----+------+--------------------+--------------------+--------------------+----------+\n",
            "|32.0|   0.0|42.4| 86.3|20.3|20.0|35.2| 5.46|4.45| 81.0|15.9|69.9|   0.0|[32.0,0.0,42.4,86...|[286.954869615973...|[1.0,3.5781823002...|       0.0|\n",
            "|32.0|   0.0|43.2| 52.0|30.6|22.6|18.9| 7.33|4.74| 80.0|33.8|75.7|   0.0|[32.0,0.0,43.2,52...|[281.614235265908...|[1.0,1.0244873107...|       0.0|\n",
            "|32.0|   0.0|46.3| 41.3|17.5|17.8| 8.5| 7.01|4.79| 70.0|16.9|74.5|   0.0|[32.0,0.0,46.3,41...|[329.637070801162...|[1.0,2.3941933511...|       0.0|\n",
            "|32.0|   0.0|50.9| 65.5|23.2|21.2| 6.9| 8.69| 4.1| 83.0|13.7|71.3|   0.0|[32.0,0.0,50.9,65...|[375.018142931757...|[1.0,3.8219147599...|       0.0|\n",
            "|33.0|   0.0|36.6| 57.1|38.9|40.3|24.9| 9.62| 5.5|112.0|27.6|69.3|   0.0|[33.0,0.0,36.6,57...|[266.834562998572...|[1.0,6.7251788183...|       0.0|\n",
            "|33.0|   0.0|38.7| 39.8|22.5|23.0| 4.1| 4.63|4.97| 63.0|15.2|71.9|   0.0|[33.0,0.0,38.7,39...|[282.416699150824...|[1.0,3.1777824373...|       0.0|\n",
            "|33.0|   0.0|40.9| 73.0|17.2|22.9|10.0| 6.98|5.22| 90.0|14.7|72.4|   0.0|[33.0,0.0,40.9,73...|[340.661989788631...|[1.0,1.8429339582...|       0.0|\n",
            "|33.0|   0.0|42.0| 63.1|32.6|34.9|11.2| 7.01|4.05|105.0|19.1|68.1|   0.0|[33.0,0.0,42.0,63...|[287.262205429983...|[1.0,9.1668901248...|       0.0|\n",
            "|33.0|   0.0|44.3| 49.8|32.1|21.6|13.1| 7.44|5.59|103.0|30.2|74.0|   0.0|[33.0,0.0,44.3,49...|[319.289845055447...|[1.0,1.9214316512...|       0.0|\n",
            "|34.0|   0.0|40.5| 32.4|29.6|27.1| 5.8| 10.5|4.56| 91.0|26.6|72.0|   0.0|[34.0,0.0,40.5,32...|[298.285285431123...|[1.0,2.6943487118...|       0.0|\n",
            "|34.0|   0.0|46.1| 70.6|35.8|30.0| 7.6|  7.7| 4.2| 93.0|14.3|78.7|   0.0|[34.0,0.0,46.1,70...|[332.472498609766...|[1.0,1.1235126500...|       0.0|\n",
            "|35.0|   0.0|47.3| 92.2|30.7|25.7| 6.6|11.58| 5.9| 82.0|36.9|77.8|   0.0|[35.0,0.0,47.3,92...|[417.652369137353...|[1.0,5.1200365022...|       0.0|\n",
            "|35.0|   0.0|48.7| 72.7|24.1|31.0|45.1|  9.4| 3.8| 90.0|20.0|75.8|   0.0|[35.0,0.0,48.7,72...|[280.898330170141...|[1.0,1.9821944238...|       0.0|\n",
            "|36.0|   0.0|45.9| 58.8|29.7|27.7|11.7|  5.6|4.89| 93.0|23.1|70.8|   0.0|[36.0,0.0,45.9,58...|[312.341131137088...|[1.0,1.4393983397...|       0.0|\n",
            "|36.0|   0.0|48.9| 82.8|16.9|24.4| 8.9| 8.91| 5.1| 97.0|14.8|79.9|   0.0|[36.0,0.0,48.9,82...|[397.198685530572...|[1.0,6.3206555501...|       0.0|\n",
            "|37.0|   0.0|31.4|106.0|16.6|17.0| 2.4| 5.95| 5.3| 68.0|22.9|72.3|   0.0|[37.0,0.0,31.4,10...|[337.464456568178...|[1.0,3.9155153043...|       0.0|\n",
            "|37.0|   0.0|41.5| 64.6|23.7|29.9| 9.3| 5.49|3.97|100.0|10.4|69.3|   0.0|[37.0,0.0,41.5,64...|[292.470031650232...|[1.0,3.1666875311...|       0.0|\n",
            "|37.0|   0.0|46.1| 44.3|42.7|26.5| 6.4|10.86|5.05| 74.0|22.2|73.1|   0.0|[37.0,0.0,46.1,44...|[349.673660599920...|[1.0,4.8755600788...|       0.0|\n",
            "|37.0|   0.0|46.4| 53.3|20.2|24.9| 8.7| 8.63| 5.9| 86.0|23.3|78.9|   0.0|[37.0,0.0,46.4,53...|[363.382047038556...|[1.0,2.1054673980...|       0.0|\n",
            "|37.0|   0.0|47.9| 68.8|40.3|46.9| 6.0| 9.76|6.42| 81.0|22.7|80.6|   0.0|[37.0,0.0,47.9,68...|[382.596627540151...|[1.0,3.6134337666...|       0.0|\n",
            "+----+------+----+-----+----+----+----+-----+----+-----+----+----+------+--------------------+--------------------+--------------------+----------+\n",
            "only showing top 20 rows\n",
            "\n"
          ]
        }
      ],
      "source": [
        "y_pred.show()"
      ]
    },
    {
      "cell_type": "code",
      "execution_count": null,
      "id": "plain-township",
      "metadata": {
        "id": "plain-township",
        "outputId": "b5796486-a177-4ea2-9c58-5b2fbcbd89f9"
      },
      "outputs": [
        {
          "name": "stdout",
          "output_type": "stream",
          "text": [
            "['Age', 'Gender', 'ALB', 'ALP', 'ALT', 'AST', 'BIL', 'CHE', 'CHOL', 'CREA', 'GGT', 'PROT', 'Target', 'features', 'rawPrediction', 'probability', 'prediction']\n"
          ]
        }
      ],
      "source": [
        "print(y_pred.columns)"
      ]
    },
    {
      "cell_type": "code",
      "execution_count": null,
      "id": "crude-brazilian",
      "metadata": {
        "id": "crude-brazilian",
        "outputId": "6e0d045f-a487-453e-a485-6a374fbe74c4"
      },
      "outputs": [
        {
          "name": "stdout",
          "output_type": "stream",
          "text": [
            "+------+--------------------+--------------------+----------+\n",
            "|target|       rawPrediction|         probability|prediction|\n",
            "+------+--------------------+--------------------+----------+\n",
            "|   0.0|[286.954869615973...|[1.0,3.5781823002...|       0.0|\n",
            "|   0.0|[281.614235265908...|[1.0,1.0244873107...|       0.0|\n",
            "|   0.0|[329.637070801162...|[1.0,2.3941933511...|       0.0|\n",
            "|   0.0|[375.018142931757...|[1.0,3.8219147599...|       0.0|\n",
            "|   0.0|[266.834562998572...|[1.0,6.7251788183...|       0.0|\n",
            "|   0.0|[282.416699150824...|[1.0,3.1777824373...|       0.0|\n",
            "|   0.0|[340.661989788631...|[1.0,1.8429339582...|       0.0|\n",
            "|   0.0|[287.262205429983...|[1.0,9.1668901248...|       0.0|\n",
            "|   0.0|[319.289845055447...|[1.0,1.9214316512...|       0.0|\n",
            "|   0.0|[298.285285431123...|[1.0,2.6943487118...|       0.0|\n",
            "|   0.0|[332.472498609766...|[1.0,1.1235126500...|       0.0|\n",
            "|   0.0|[417.652369137353...|[1.0,5.1200365022...|       0.0|\n",
            "|   0.0|[280.898330170141...|[1.0,1.9821944238...|       0.0|\n",
            "|   0.0|[312.341131137088...|[1.0,1.4393983397...|       0.0|\n",
            "|   0.0|[397.198685530572...|[1.0,6.3206555501...|       0.0|\n",
            "|   0.0|[337.464456568178...|[1.0,3.9155153043...|       0.0|\n",
            "|   0.0|[292.470031650232...|[1.0,3.1666875311...|       0.0|\n",
            "|   0.0|[349.673660599920...|[1.0,4.8755600788...|       0.0|\n",
            "|   0.0|[363.382047038556...|[1.0,2.1054673980...|       0.0|\n",
            "|   0.0|[382.596627540151...|[1.0,3.6134337666...|       0.0|\n",
            "+------+--------------------+--------------------+----------+\n",
            "only showing top 20 rows\n",
            "\n"
          ]
        }
      ],
      "source": [
        "y_pred.select('target','rawPrediction', 'probability', 'prediction').show()"
      ]
    },
    {
      "cell_type": "markdown",
      "id": "numeric-genesis",
      "metadata": {
        "id": "numeric-genesis"
      },
      "source": [
        "#### Model Evaluation"
      ]
    },
    {
      "cell_type": "code",
      "execution_count": null,
      "id": "brave-guarantee",
      "metadata": {
        "id": "brave-guarantee"
      },
      "outputs": [],
      "source": [
        "from pyspark.ml.evaluation import MulticlassClassificationEvaluator"
      ]
    },
    {
      "cell_type": "code",
      "execution_count": null,
      "id": "least-carter",
      "metadata": {
        "id": "least-carter"
      },
      "outputs": [],
      "source": [
        "# How to Check For Accuracy\n",
        "multi_evaluator = MulticlassClassificationEvaluator(labelCol='Target',metricName='accuracy')"
      ]
    },
    {
      "cell_type": "code",
      "execution_count": null,
      "id": "color-latin",
      "metadata": {
        "id": "color-latin",
        "outputId": "a4941b89-60aa-401b-c047-d76b4a2f2ed8"
      },
      "outputs": [
        {
          "data": {
            "text/plain": [
              "0.9659090909090909"
            ]
          },
          "execution_count": 98,
          "metadata": {},
          "output_type": "execute_result"
        }
      ],
      "source": [
        "multi_evaluator.evaluate(y_pred)"
      ]
    },
    {
      "cell_type": "code",
      "execution_count": null,
      "id": "professional-sculpture",
      "metadata": {
        "id": "professional-sculpture"
      },
      "outputs": [],
      "source": [
        "# Precision,F1 Score,Recall : Classification Report"
      ]
    },
    {
      "cell_type": "code",
      "execution_count": null,
      "id": "defensive-affiliate",
      "metadata": {
        "id": "defensive-affiliate"
      },
      "outputs": [],
      "source": [
        "from pyspark.mllib.evaluation import MulticlassMetrics"
      ]
    },
    {
      "cell_type": "code",
      "execution_count": null,
      "id": "atlantic-decline",
      "metadata": {
        "id": "atlantic-decline"
      },
      "outputs": [],
      "source": [
        "lr_metric = MulticlassMetrics(y_pred['target', 'prediction'].rdd)"
      ]
    },
    {
      "cell_type": "code",
      "execution_count": null,
      "id": "handed-island",
      "metadata": {
        "id": "handed-island",
        "outputId": "a460e0c8-41c7-41c7-8419-92cc78dbdfe6"
      },
      "outputs": [
        {
          "data": {
            "text/plain": [
              "['__class__',\n",
              " '__del__',\n",
              " '__delattr__',\n",
              " '__dict__',\n",
              " '__dir__',\n",
              " '__doc__',\n",
              " '__eq__',\n",
              " '__format__',\n",
              " '__ge__',\n",
              " '__getattribute__',\n",
              " '__gt__',\n",
              " '__hash__',\n",
              " '__init__',\n",
              " '__init_subclass__',\n",
              " '__le__',\n",
              " '__lt__',\n",
              " '__module__',\n",
              " '__ne__',\n",
              " '__new__',\n",
              " '__reduce__',\n",
              " '__reduce_ex__',\n",
              " '__repr__',\n",
              " '__setattr__',\n",
              " '__sizeof__',\n",
              " '__str__',\n",
              " '__subclasshook__',\n",
              " '__weakref__',\n",
              " '_java_model',\n",
              " '_sc',\n",
              " 'accuracy',\n",
              " 'call',\n",
              " 'confusionMatrix',\n",
              " 'fMeasure',\n",
              " 'falsePositiveRate',\n",
              " 'logLoss',\n",
              " 'precision',\n",
              " 'recall',\n",
              " 'truePositiveRate',\n",
              " 'weightedFMeasure',\n",
              " 'weightedFalsePositiveRate',\n",
              " 'weightedPrecision',\n",
              " 'weightedRecall',\n",
              " 'weightedTruePositiveRate']"
            ]
          },
          "execution_count": 102,
          "metadata": {},
          "output_type": "execute_result"
        }
      ],
      "source": [
        "dir(lr_metric)"
      ]
    },
    {
      "cell_type": "code",
      "execution_count": null,
      "id": "another-monkey",
      "metadata": {
        "id": "another-monkey",
        "outputId": "362edf3d-66a8-4129-a26c-6c7ef48e4530"
      },
      "outputs": [
        {
          "name": "stdout",
          "output_type": "stream",
          "text": [
            "Accuracy 0.9659090909090909\n"
          ]
        }
      ],
      "source": [
        "print(\"Accuracy\",lr_metric.accuracy)"
      ]
    },
    {
      "cell_type": "code",
      "execution_count": null,
      "id": "agricultural-papua",
      "metadata": {
        "id": "agricultural-papua",
        "outputId": "fd994ce0-fe0a-49af-ce0b-c2a38d096a74"
      },
      "outputs": [
        {
          "name": "stdout",
          "output_type": "stream",
          "text": [
            "Precision 0.8\n",
            "Recall 0.8888888888888888\n",
            "F1Score 0.8421052631578948\n"
          ]
        }
      ],
      "source": [
        "print(\"Precision\",lr_metric.precision(1.0))\n",
        "print(\"Recall\",lr_metric.recall(1.0))\n",
        "print(\"F1Score\",lr_metric.fMeasure(1.0))"
      ]
    },
    {
      "cell_type": "code",
      "execution_count": null,
      "id": "variable-familiar",
      "metadata": {
        "id": "variable-familiar",
        "outputId": "8bdfd15e-a851-442f-b601-03f9397580cb"
      },
      "outputs": [
        {
          "data": {
            "text/plain": [
              "['__class__',\n",
              " '__del__',\n",
              " '__delattr__',\n",
              " '__dict__',\n",
              " '__dir__',\n",
              " '__doc__',\n",
              " '__eq__',\n",
              " '__format__',\n",
              " '__ge__',\n",
              " '__getattribute__',\n",
              " '__gt__',\n",
              " '__hash__',\n",
              " '__init__',\n",
              " '__init_subclass__',\n",
              " '__le__',\n",
              " '__lt__',\n",
              " '__metaclass__',\n",
              " '__module__',\n",
              " '__ne__',\n",
              " '__new__',\n",
              " '__reduce__',\n",
              " '__reduce_ex__',\n",
              " '__repr__',\n",
              " '__setattr__',\n",
              " '__sizeof__',\n",
              " '__str__',\n",
              " '__subclasshook__',\n",
              " '__weakref__',\n",
              " '_call_java',\n",
              " '_checkThresholdConsistency',\n",
              " '_copyValues',\n",
              " '_copy_params',\n",
              " '_create_from_java_class',\n",
              " '_create_params_from_java',\n",
              " '_defaultParamMap',\n",
              " '_dummy',\n",
              " '_empty_java_param_map',\n",
              " '_from_java',\n",
              " '_java_obj',\n",
              " '_make_java_param_pair',\n",
              " '_new_java_array',\n",
              " '_new_java_obj',\n",
              " '_paramMap',\n",
              " '_params',\n",
              " '_randomUID',\n",
              " '_resetUid',\n",
              " '_resolveParam',\n",
              " '_set',\n",
              " '_setDefault',\n",
              " '_shouldOwn',\n",
              " '_to_java',\n",
              " '_transfer_param_map_from_java',\n",
              " '_transfer_param_map_to_java',\n",
              " '_transfer_params_from_java',\n",
              " '_transfer_params_to_java',\n",
              " '_transform',\n",
              " 'aggregationDepth',\n",
              " 'clear',\n",
              " 'coefficientMatrix',\n",
              " 'coefficients',\n",
              " 'copy',\n",
              " 'elasticNetParam',\n",
              " 'evaluate',\n",
              " 'explainParam',\n",
              " 'explainParams',\n",
              " 'extractParamMap',\n",
              " 'family',\n",
              " 'featuresCol',\n",
              " 'fitIntercept',\n",
              " 'getAggregationDepth',\n",
              " 'getElasticNetParam',\n",
              " 'getFamily',\n",
              " 'getFeaturesCol',\n",
              " 'getFitIntercept',\n",
              " 'getLabelCol',\n",
              " 'getLowerBoundsOnCoefficients',\n",
              " 'getLowerBoundsOnIntercepts',\n",
              " 'getMaxIter',\n",
              " 'getOrDefault',\n",
              " 'getParam',\n",
              " 'getPredictionCol',\n",
              " 'getProbabilityCol',\n",
              " 'getRawPredictionCol',\n",
              " 'getRegParam',\n",
              " 'getStandardization',\n",
              " 'getThreshold',\n",
              " 'getThresholds',\n",
              " 'getTol',\n",
              " 'getUpperBoundsOnCoefficients',\n",
              " 'getUpperBoundsOnIntercepts',\n",
              " 'getWeightCol',\n",
              " 'hasDefault',\n",
              " 'hasParam',\n",
              " 'hasSummary',\n",
              " 'intercept',\n",
              " 'interceptVector',\n",
              " 'isDefined',\n",
              " 'isSet',\n",
              " 'labelCol',\n",
              " 'load',\n",
              " 'lowerBoundsOnCoefficients',\n",
              " 'lowerBoundsOnIntercepts',\n",
              " 'maxIter',\n",
              " 'numClasses',\n",
              " 'numFeatures',\n",
              " 'params',\n",
              " 'predict',\n",
              " 'predictProbability',\n",
              " 'predictRaw',\n",
              " 'predictionCol',\n",
              " 'probabilityCol',\n",
              " 'rawPredictionCol',\n",
              " 'read',\n",
              " 'regParam',\n",
              " 'save',\n",
              " 'set',\n",
              " 'setFeaturesCol',\n",
              " 'setPredictionCol',\n",
              " 'setProbabilityCol',\n",
              " 'setRawPredictionCol',\n",
              " 'setThreshold',\n",
              " 'setThresholds',\n",
              " 'standardization',\n",
              " 'summary',\n",
              " 'threshold',\n",
              " 'thresholds',\n",
              " 'tol',\n",
              " 'transform',\n",
              " 'uid',\n",
              " 'upperBoundsOnCoefficients',\n",
              " 'upperBoundsOnIntercepts',\n",
              " 'weightCol',\n",
              " 'write']"
            ]
          },
          "execution_count": 106,
          "metadata": {},
          "output_type": "execute_result"
        }
      ],
      "source": [
        "dir(lr_model)"
      ]
    },
    {
      "cell_type": "code",
      "execution_count": null,
      "id": "particular-privacy",
      "metadata": {
        "id": "particular-privacy"
      },
      "outputs": [],
      "source": [
        "# Saving Model\n",
        "lr_model.save(\"lr_model_30\")\n",
        "\n",
        "lr_model.write().save(\"mylr_model\")"
      ]
    },
    {
      "cell_type": "code",
      "execution_count": null,
      "id": "legal-hartford",
      "metadata": {
        "id": "legal-hartford"
      },
      "outputs": [],
      "source": [
        ""
      ]
    }
  ],
  "metadata": {
    "kernelspec": {
      "display_name": "Python 3",
      "language": "python",
      "name": "python3"
    },
    "language_info": {
      "codemirror_mode": {
        "name": "ipython",
        "version": 3
      },
      "file_extension": ".py",
      "mimetype": "text/x-python",
      "name": "python",
      "nbconvert_exporter": "python",
      "pygments_lexer": "ipython3",
      "version": "3.7.9"
    },
    "colab": {
      "name": "Machine Learning with PySpark.ipynb",
      "provenance": [],
      "collapsed_sections": []
    }
  },
  "nbformat": 4,
  "nbformat_minor": 5
}